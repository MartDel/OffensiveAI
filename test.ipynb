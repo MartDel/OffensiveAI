{
 "cells": [
  {
   "cell_type": "code",
   "execution_count": 9,
   "metadata": {},
   "outputs": [
    {
     "name": "stdout",
     "output_type": "stream",
     "text": [
      "[(100, 500), (100, 425), (100, 350), (100, 275), (100, 200), (100, 125), (100, 50), (175, 500), (175, 425), (175, 350), (175, 275), (175, 200), (175, 125), (175, 50), (250, 500), (250, 425), (250, 350), (250, 275), (250, 200), (250, 125), (250, 50), (325, 500), (325, 425), (325, 350), (325, 275), (325, 200), (325, 125), (325, 50), (400, 500), (400, 425), (400, 350), (400, 275), (400, 200), (400, 125), (400, 50), (475, 500), (475, 425), (475, 350), (475, 275), (475, 200), (475, 125), (475, 50), (550, 500), (550, 425), (550, 350), (550, 275), (550, 200), (550, 125), (550, 50)]\n"
     ]
    }
   ],
   "source": [
    "coords = []\n",
    "step = 75\n",
    "for x in range(100, 100 + 7 * step, step):\n",
    "    for y in range(500, 500 - 7 * step, -step):\n",
    "        coords.append((x, y))\n",
    "print(coords)"
   ]
  },
  {
   "cell_type": "code",
   "execution_count": 2,
   "metadata": {},
   "outputs": [
    {
     "name": "stdout",
     "output_type": "stream",
     "text": [
      "[(100, 425), (100, 350), (100, 200), (175, 500), (175, 200), (175, 125), (250, 275), (250, 125), (325, 425), (325, 125), (325, 50), (400, 500), (400, 350), (475, 500), (475, 50), (550, 425), (550, 275)]\n"
     ]
    }
   ],
   "source": [
    "import random\n",
    "\n",
    "WALLS_COORD = [(100, 425), (100, 350), (100, 275), (100, 200), (175, 500), (175, 350), (175, 275), (175, 200), (175, 125), (250, 500), (250, 275), (250, 200), (250, 125), (250, 50), (325, 500), (325, 425), (325, 200), (325, 125), (325, 50), (400, 500), (400, 425), (400, 350), (400, 125), (400, 50), (475, 500), (475, 425), (475, 350), (475, 275), (475, 50), (550, 500), (550, 425), (550, 350), (550, 275)]\n",
    "\n",
    "# Calculer le nombre d'éléments à supprimer\n",
    "num_elements = int(len(WALLS_COORD) * 0.5)\n",
    "\n",
    "# Supprimer les éléments aléatoirement\n",
    "random_elements = random.sample(WALLS_COORD, num_elements)\n",
    "for element in random_elements:\n",
    "    WALLS_COORD.remove(element)\n",
    "\n",
    "print(WALLS_COORD)\n"
   ]
  },
  {
   "cell_type": "code",
   "execution_count": null,
   "metadata": {},
   "outputs": [],
   "source": []
  }
 ],
 "metadata": {
  "kernelspec": {
   "display_name": "Python 3",
   "language": "python",
   "name": "python3"
  },
  "language_info": {
   "codemirror_mode": {
    "name": "ipython",
    "version": 3
   },
   "file_extension": ".py",
   "mimetype": "text/x-python",
   "name": "python",
   "nbconvert_exporter": "python",
   "pygments_lexer": "ipython3",
   "version": "3.11.3"
  },
  "orig_nbformat": 4
 },
 "nbformat": 4,
 "nbformat_minor": 2
}
